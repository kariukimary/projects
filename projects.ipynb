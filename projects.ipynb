{
 "cells": [
  {
   "cell_type": "markdown",
   "id": "857f10d4",
   "metadata": {},
   "source": [
    "# first three chapter projects"
   ]
  },
  {
   "cell_type": "markdown",
   "id": "e493003e",
   "metadata": {},
   "source": [
    "# a)variables and statements"
   ]
  },
  {
   "cell_type": "markdown",
   "id": "de610d5b",
   "metadata": {},
   "source": [
    "1.write a program that accepts two numbers and calculate its product"
   ]
  },
  {
   "cell_type": "code",
   "execution_count": 5,
   "id": "14ee35e0",
   "metadata": {},
   "outputs": [
    {
     "name": "stdout",
     "output_type": "stream",
     "text": [
      "enter the firs number23\n",
      "enter the second number45\n",
      "the product is 1035\n"
     ]
    }
   ],
   "source": [
    "first=int(input(\"enter the firs number\"))\n",
    "second=int(input(\"enter the second number\"))\n",
    "print(\"the product is\",first*second)"
   ]
  },
  {
   "cell_type": "markdown",
   "id": "571e3ca2",
   "metadata": {},
   "source": [
    "2.write a program that  prompt the user to enter his date of birth and calculate the age of the user"
   ]
  },
  {
   "cell_type": "code",
   "execution_count": 12,
   "id": "5ca2374d",
   "metadata": {},
   "outputs": [
    {
     "name": "stdout",
     "output_type": "stream",
     "text": [
      "enter your year of birth1990\n",
      "you are 33 years old\n"
     ]
    }
   ],
   "source": [
    "date_of_birth=int(input(\"enter your year of birth\"))\n",
    "age=int(2023-date_of_birth)\n",
    "print(\"you are\"+ \" \"+str(age)+ \" \"+\"years old\")"
   ]
  },
  {
   "cell_type": "markdown",
   "id": "a5614f8d",
   "metadata": {},
   "source": [
    " 3.write a program that prompt the use to enter their ames and they are welcomed at data science and artificial inteligence club(DSAIC)"
   ]
  },
  {
   "cell_type": "code",
   "execution_count": 15,
   "id": "f153f439",
   "metadata": {},
   "outputs": [
    {
     "name": "stdout",
     "output_type": "stream",
     "text": [
      "enter your fullNameMary kariuki\n",
      "Hello Mary kariuki Welcome to data science and artificial inteligene club where we learn machine learning uisng python  and then we advance to artificial inteligence\n"
     ]
    }
   ],
   "source": [
    "full_names=input(\"enter your fullName\")\n",
    "print(\"Hello\"+ \" \"+full_names+ \" \" +\"Welcome to data science and artificial inteligene club where we learn machine learning uisng python  and then we advance to artificial inteligence\")"
   ]
  },
  {
   "cell_type": "markdown",
   "id": "bce885ae",
   "metadata": {},
   "source": [
    "# b) conditional execution"
   ]
  },
  {
   "cell_type": "markdown",
   "id": "7fd2b3e2",
   "metadata": {},
   "source": [
    "3.create a program that checks whether the number accepted from the user is positive or negative"
   ]
  },
  {
   "cell_type": "code",
   "execution_count": 1,
   "id": "1853bde9",
   "metadata": {},
   "outputs": [
    {
     "name": "stdout",
     "output_type": "stream",
     "text": [
      "enter the number34\n",
      "it is a positive number\n"
     ]
    }
   ],
   "source": [
    "number=int(input(\"enter the number\"))\n",
    "if number%2==0:\n",
    "    print(\"it is a positive number\")\n",
    "else:\n",
    "    print(\"it is a negative number\")"
   ]
  },
  {
   "cell_type": "markdown",
   "id": "f9365110",
   "metadata": {},
   "source": [
    "4.write a program to find the largest number out of the three numbers expected from the user"
   ]
  },
  {
   "cell_type": "code",
   "execution_count": 4,
   "id": "a9c22f53",
   "metadata": {},
   "outputs": [
    {
     "name": "stdout",
     "output_type": "stream",
     "text": [
      "enter the first number45\n",
      "enter the second number89\n",
      "enter the third number35\n",
      "num2 is the largest\n"
     ]
    }
   ],
   "source": [
    "num1=int(input(\"enter the first number\"))\n",
    "num2=int(input(\"enter the second number\"))\n",
    "num3=int(input(\"enter the third number\"))\n",
    "if num1>num2 and num1>num3:\n",
    "    print(\"num1 is the largest\")\n",
    "elif num2>num1 and num2>num3:\n",
    "    print(\"num2 is the largest\")\n",
    "else:\n",
    "    print(\"num3 is the largest\")"
   ]
  },
  {
   "cell_type": "markdown",
   "id": "8787bd5d",
   "metadata": {},
   "source": [
    "5.write a program that shows the Dekut grading system"
   ]
  },
  {
   "cell_type": "code",
   "execution_count": 16,
   "id": "083f7dde",
   "metadata": {},
   "outputs": [
    {
     "name": "stdout",
     "output_type": "stream",
     "text": [
      "enter the grade56\n",
      "you scored grade C\n"
     ]
    }
   ],
   "source": [
    "grade=int(input(\"enter the grade\"))\n",
    "if grade>=70:\n",
    "    print(\"you scored grade A\")\n",
    "elif grade>=60:\n",
    "    print(\"you scored grade B\")\n",
    "elif grade>=50:\n",
    "    print(\"you scored grade C\")\n",
    "elif grade>=40:\n",
    "    print(\"you scored grade D\")\n",
    "else:\n",
    "    print(\"you scored grade E,please retake the unit\")"
   ]
  },
  {
   "cell_type": "markdown",
   "id": "a3b08cf9",
   "metadata": {},
   "source": [
    "# exception handling"
   ]
  },
  {
   "cell_type": "code",
   "execution_count": 23,
   "id": "9eb9a202",
   "metadata": {},
   "outputs": [
    {
     "name": "stdout",
     "output_type": "stream",
     "text": [
      "enter number 134\n",
      "enter number 2df\n",
      "enter a float  or numeric number\n"
     ]
    }
   ],
   "source": [
    "try:\n",
    "    x=int(input(\"enter number 1\"))\n",
    "    y=float(input(\"enter number 2\"))\n",
    "    print(x+y)\n",
    "    \n",
    "except:\n",
    "    print(\"enter a float  or numeric number\")\n",
    "    \n",
    "    "
   ]
  },
  {
   "cell_type": "code",
   "execution_count": 26,
   "id": "7ceafc29",
   "metadata": {},
   "outputs": [
    {
     "name": "stdout",
     "output_type": "stream",
     "text": [
      "enter age23\n",
      "enter years of experience2\n",
      "take some time to improve on experience\n"
     ]
    }
   ],
   "source": [
    "age=int(input(\"enter age\"))\n",
    "experience=int(input(\"enter years of experience\"))\n",
    "try:\n",
    "    if age>20 and experience>5:\n",
    "        print(\"you qualify for the job\")\n",
    "    else:\n",
    "        print(\"take some time to improve on experience\")\n",
    "except:\n",
    "    print(\"enter an integer number\")\n",
    "    \n",
    "    "
   ]
  },
  {
   "cell_type": "code",
   "execution_count": null,
   "id": "c423f73e",
   "metadata": {},
   "outputs": [],
   "source": []
  },
  {
   "cell_type": "code",
   "execution_count": null,
   "id": "8a763189",
   "metadata": {},
   "outputs": [],
   "source": []
  }
 ],
 "metadata": {
  "kernelspec": {
   "display_name": "Python 3 (ipykernel)",
   "language": "python",
   "name": "python3"
  },
  "language_info": {
   "codemirror_mode": {
    "name": "ipython",
    "version": 3
   },
   "file_extension": ".py",
   "mimetype": "text/x-python",
   "name": "python",
   "nbconvert_exporter": "python",
   "pygments_lexer": "ipython3",
   "version": "3.9.7"
  }
 },
 "nbformat": 4,
 "nbformat_minor": 5
}
